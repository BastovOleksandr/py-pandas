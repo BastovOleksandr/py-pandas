{
 "cells": [
  {
   "cell_type": "markdown",
   "source": [
    "# Pandas"
   ],
   "metadata": {
    "collapsed": false
   }
  },
  {
   "cell_type": "markdown",
   "source": [
    "## Task 1\n",
    "\n",
    "You should import the necessary libraries. You will use `numpy` and `pandas` libraries.\n",
    "\n",
    "\n",
    "> Don't forget to import `numpy`, and `pandas` in short form."
   ],
   "metadata": {
    "collapsed": false
   }
  },
  {
   "cell_type": "code",
   "metadata": {
    "collapsed": true,
    "ExecuteTime": {
     "end_time": "2024-11-05T16:58:12.977458Z",
     "start_time": "2024-11-05T16:58:12.773632Z"
    }
   },
   "source": [
    "import numpy as np\n",
    "import pandas as pd\n",
    "from prompt_toolkit.key_binding.bindings.named_commands import uppercase_word"
   ],
   "outputs": [],
   "execution_count": 2
  },
  {
   "cell_type": "markdown",
   "source": [
    "## Task 2\n",
    "\n",
    "Create a `DataFrame` from the given dictionary `data`."
   ],
   "metadata": {
    "collapsed": false
   }
  },
  {
   "cell_type": "code",
   "source": [
    "data = {\n",
    "    \"Name\": [\"John\", \"Emily\", \"Ryan\"],\n",
    "    \"Age\": [16, 28, 22],\n",
    "    \"City\": [\"New York\", \"Los Angeles\", \"Chicago\"],\n",
    "}\n",
    "\n",
    "df = pd.DataFrame(data)"
   ],
   "metadata": {
    "collapsed": false,
    "ExecuteTime": {
     "end_time": "2024-11-05T16:59:12.526840Z",
     "start_time": "2024-11-05T16:59:12.523957Z"
    }
   },
   "outputs": [],
   "execution_count": 4
  },
  {
   "cell_type": "markdown",
   "source": [
    "## Task 3\n",
    "\n",
    "In this task you should complete the following steps:"
   ],
   "metadata": {
    "collapsed": false
   }
  },
  {
   "cell_type": "markdown",
   "source": [
    "### Task 3.1\n",
    "Display all data for `Age` column for the DataFrame you created in the previous task."
   ],
   "metadata": {
    "collapsed": false
   }
  },
  {
   "cell_type": "code",
   "source": "df[\"Age\"]",
   "metadata": {
    "collapsed": false,
    "ExecuteTime": {
     "end_time": "2024-11-05T16:59:24.558148Z",
     "start_time": "2024-11-05T16:59:24.554738Z"
    }
   },
   "outputs": [
    {
     "data": {
      "text/plain": [
       "0    16\n",
       "1    28\n",
       "2    22\n",
       "Name: Age, dtype: int64"
      ]
     },
     "execution_count": 5,
     "metadata": {},
     "output_type": "execute_result"
    }
   ],
   "execution_count": 5
  },
  {
   "cell_type": "markdown",
   "source": [
    "### Task 3.2\n",
    "\n",
    "Add `Salary` column to the `DataFrame` with the values `[50000, 60000, 45000]`."
   ],
   "metadata": {
    "collapsed": false
   }
  },
  {
   "cell_type": "code",
   "source": "df[\"Salary\"] = [50_000, 60_000, 45_000]",
   "metadata": {
    "collapsed": false,
    "ExecuteTime": {
     "end_time": "2024-11-05T17:00:13.515629Z",
     "start_time": "2024-11-05T17:00:13.510107Z"
    }
   },
   "outputs": [
    {
     "data": {
      "text/plain": [
       "    Name  Age         City  Salary\n",
       "0   John   16     New York   50000\n",
       "1  Emily   28  Los Angeles   60000\n",
       "2   Ryan   22      Chicago   45000"
      ],
      "text/html": [
       "<div>\n",
       "<style scoped>\n",
       "    .dataframe tbody tr th:only-of-type {\n",
       "        vertical-align: middle;\n",
       "    }\n",
       "\n",
       "    .dataframe tbody tr th {\n",
       "        vertical-align: top;\n",
       "    }\n",
       "\n",
       "    .dataframe thead th {\n",
       "        text-align: right;\n",
       "    }\n",
       "</style>\n",
       "<table border=\"1\" class=\"dataframe\">\n",
       "  <thead>\n",
       "    <tr style=\"text-align: right;\">\n",
       "      <th></th>\n",
       "      <th>Name</th>\n",
       "      <th>Age</th>\n",
       "      <th>City</th>\n",
       "      <th>Salary</th>\n",
       "    </tr>\n",
       "  </thead>\n",
       "  <tbody>\n",
       "    <tr>\n",
       "      <th>0</th>\n",
       "      <td>John</td>\n",
       "      <td>16</td>\n",
       "      <td>New York</td>\n",
       "      <td>50000</td>\n",
       "    </tr>\n",
       "    <tr>\n",
       "      <th>1</th>\n",
       "      <td>Emily</td>\n",
       "      <td>28</td>\n",
       "      <td>Los Angeles</td>\n",
       "      <td>60000</td>\n",
       "    </tr>\n",
       "    <tr>\n",
       "      <th>2</th>\n",
       "      <td>Ryan</td>\n",
       "      <td>22</td>\n",
       "      <td>Chicago</td>\n",
       "      <td>45000</td>\n",
       "    </tr>\n",
       "  </tbody>\n",
       "</table>\n",
       "</div>"
      ]
     },
     "execution_count": 8,
     "metadata": {},
     "output_type": "execute_result"
    }
   ],
   "execution_count": 8
  },
  {
   "cell_type": "markdown",
   "source": [
    "### Task 3.3\n",
    "\n",
    "Filter the `DataFrame` to show only the rows with the `Age` greater than 18."
   ],
   "metadata": {
    "collapsed": false
   }
  },
  {
   "cell_type": "code",
   "source": "df[df[\"Age\"] > 18]",
   "metadata": {
    "collapsed": false,
    "ExecuteTime": {
     "end_time": "2024-11-05T17:08:21.502942Z",
     "start_time": "2024-11-05T17:08:21.497431Z"
    }
   },
   "outputs": [
    {
     "data": {
      "text/plain": [
       "    Name  Age         City  Salary\n",
       "1  Emily   28  Los Angeles   60000\n",
       "2   Ryan   22      Chicago   45000"
      ],
      "text/html": [
       "<div>\n",
       "<style scoped>\n",
       "    .dataframe tbody tr th:only-of-type {\n",
       "        vertical-align: middle;\n",
       "    }\n",
       "\n",
       "    .dataframe tbody tr th {\n",
       "        vertical-align: top;\n",
       "    }\n",
       "\n",
       "    .dataframe thead th {\n",
       "        text-align: right;\n",
       "    }\n",
       "</style>\n",
       "<table border=\"1\" class=\"dataframe\">\n",
       "  <thead>\n",
       "    <tr style=\"text-align: right;\">\n",
       "      <th></th>\n",
       "      <th>Name</th>\n",
       "      <th>Age</th>\n",
       "      <th>City</th>\n",
       "      <th>Salary</th>\n",
       "    </tr>\n",
       "  </thead>\n",
       "  <tbody>\n",
       "    <tr>\n",
       "      <th>1</th>\n",
       "      <td>Emily</td>\n",
       "      <td>28</td>\n",
       "      <td>Los Angeles</td>\n",
       "      <td>60000</td>\n",
       "    </tr>\n",
       "    <tr>\n",
       "      <th>2</th>\n",
       "      <td>Ryan</td>\n",
       "      <td>22</td>\n",
       "      <td>Chicago</td>\n",
       "      <td>45000</td>\n",
       "    </tr>\n",
       "  </tbody>\n",
       "</table>\n",
       "</div>"
      ]
     },
     "execution_count": 10,
     "metadata": {},
     "output_type": "execute_result"
    }
   ],
   "execution_count": 10
  },
  {
   "cell_type": "markdown",
   "source": [
    "## Task 4\n",
    "\n",
    "In this task you should complete the following steps:"
   ],
   "metadata": {
    "collapsed": false
   }
  },
  {
   "cell_type": "markdown",
   "source": [
    "### Task 4.1\n",
    "\n",
    "Add new calculated field `Birth year`;"
   ],
   "metadata": {
    "collapsed": false
   }
  },
  {
   "cell_type": "code",
   "source": [
    "current_year = 2024\n",
    "df[\"Birth year\"] = current_year - df[\"Age\"]"
   ],
   "metadata": {
    "collapsed": false,
    "ExecuteTime": {
     "end_time": "2024-11-05T17:10:48.079935Z",
     "start_time": "2024-11-05T17:10:48.077349Z"
    }
   },
   "outputs": [],
   "execution_count": 15
  },
  {
   "cell_type": "markdown",
   "source": [
    "### Task 4.2\n",
    "\n",
    "Add new calculated field `Average age`."
   ],
   "metadata": {
    "collapsed": false
   }
  },
  {
   "cell_type": "code",
   "source": "df[\"Average age\"] = df[\"Age\"].mean()",
   "metadata": {
    "collapsed": false,
    "ExecuteTime": {
     "end_time": "2024-11-05T17:14:04.226505Z",
     "start_time": "2024-11-05T17:14:04.219038Z"
    }
   },
   "outputs": [
    {
     "data": {
      "text/plain": [
       "    Name  Age         City  Salary  Birth year  Average age\n",
       "0   John   16     New York   50000        2008         22.0\n",
       "1  Emily   28  Los Angeles   60000        1996         22.0\n",
       "2   Ryan   22      Chicago   45000        2002         22.0"
      ],
      "text/html": [
       "<div>\n",
       "<style scoped>\n",
       "    .dataframe tbody tr th:only-of-type {\n",
       "        vertical-align: middle;\n",
       "    }\n",
       "\n",
       "    .dataframe tbody tr th {\n",
       "        vertical-align: top;\n",
       "    }\n",
       "\n",
       "    .dataframe thead th {\n",
       "        text-align: right;\n",
       "    }\n",
       "</style>\n",
       "<table border=\"1\" class=\"dataframe\">\n",
       "  <thead>\n",
       "    <tr style=\"text-align: right;\">\n",
       "      <th></th>\n",
       "      <th>Name</th>\n",
       "      <th>Age</th>\n",
       "      <th>City</th>\n",
       "      <th>Salary</th>\n",
       "      <th>Birth year</th>\n",
       "      <th>Average age</th>\n",
       "    </tr>\n",
       "  </thead>\n",
       "  <tbody>\n",
       "    <tr>\n",
       "      <th>0</th>\n",
       "      <td>John</td>\n",
       "      <td>16</td>\n",
       "      <td>New York</td>\n",
       "      <td>50000</td>\n",
       "      <td>2008</td>\n",
       "      <td>22.0</td>\n",
       "    </tr>\n",
       "    <tr>\n",
       "      <th>1</th>\n",
       "      <td>Emily</td>\n",
       "      <td>28</td>\n",
       "      <td>Los Angeles</td>\n",
       "      <td>60000</td>\n",
       "      <td>1996</td>\n",
       "      <td>22.0</td>\n",
       "    </tr>\n",
       "    <tr>\n",
       "      <th>2</th>\n",
       "      <td>Ryan</td>\n",
       "      <td>22</td>\n",
       "      <td>Chicago</td>\n",
       "      <td>45000</td>\n",
       "      <td>2002</td>\n",
       "      <td>22.0</td>\n",
       "    </tr>\n",
       "  </tbody>\n",
       "</table>\n",
       "</div>"
      ]
     },
     "execution_count": 17,
     "metadata": {},
     "output_type": "execute_result"
    }
   ],
   "execution_count": 17
  },
  {
   "cell_type": "markdown",
   "source": [
    "### Task 4.3\n",
    "\n",
    "Calculate absolute difference between `Age` and `Average age`."
   ],
   "metadata": {
    "collapsed": false
   }
  },
  {
   "cell_type": "code",
   "source": "abs(df[\"Age\"] - df[\"Average age\"])",
   "metadata": {
    "collapsed": false,
    "ExecuteTime": {
     "end_time": "2024-11-05T17:16:31.021336Z",
     "start_time": "2024-11-05T17:16:31.017235Z"
    }
   },
   "outputs": [
    {
     "data": {
      "text/plain": [
       "0    6.0\n",
       "1    6.0\n",
       "2    0.0\n",
       "dtype: float64"
      ]
     },
     "execution_count": 20,
     "metadata": {},
     "output_type": "execute_result"
    }
   ],
   "execution_count": 20
  },
  {
   "cell_type": "markdown",
   "source": [
    "## Task 5\n",
    "\n",
    "Complete the following tasks described below."
   ],
   "metadata": {
    "collapsed": false
   }
  },
  {
   "cell_type": "markdown",
   "source": [
    "### Task 5.1\n",
    "\n",
    "You have two dictionaries `data1` and `data2`. Create two `DataFrame` objects from these dictionaries. Then, `concatenate`, and `merge` these two `DataFrame` objects into one `DataFrame` object, and see the difference."
   ],
   "metadata": {
    "collapsed": false
   }
  },
  {
   "cell_type": "code",
   "source": [
    "# Data\n",
    "data1 = {'Name': ['John', 'Emily', 'Ryan'],\n",
    "         'Age': [25, 28, 22]}\n",
    "data2 = {'Name': ['Emily', 'Ryan', 'Mike'],\n",
    "         'City': ['Los Angeles', 'Chicago', 'Houston']}\n",
    "\n",
    "pd_data1 = pd.DataFrame(data1)\n",
    "pd_data2 = pd.DataFrame(data2)\n",
    "pd_data1, pd_data2"
   ],
   "metadata": {
    "collapsed": false,
    "ExecuteTime": {
     "end_time": "2024-11-05T17:18:13.206401Z",
     "start_time": "2024-11-05T17:18:13.200799Z"
    }
   },
   "outputs": [
    {
     "data": {
      "text/plain": [
       "(    Name  Age\n",
       " 0   John   25\n",
       " 1  Emily   28\n",
       " 2   Ryan   22,\n",
       "     Name         City\n",
       " 0  Emily  Los Angeles\n",
       " 1   Ryan      Chicago\n",
       " 2   Mike      Houston)"
      ]
     },
     "execution_count": 24,
     "metadata": {},
     "output_type": "execute_result"
    }
   ],
   "execution_count": 24
  },
  {
   "cell_type": "code",
   "source": "pd_data1.merge(pd_data2)",
   "metadata": {
    "collapsed": false,
    "ExecuteTime": {
     "end_time": "2024-11-05T17:19:00.651805Z",
     "start_time": "2024-11-05T17:19:00.645398Z"
    }
   },
   "outputs": [
    {
     "data": {
      "text/plain": [
       "    Name  Age         City\n",
       "0  Emily   28  Los Angeles\n",
       "1   Ryan   22      Chicago"
      ],
      "text/html": [
       "<div>\n",
       "<style scoped>\n",
       "    .dataframe tbody tr th:only-of-type {\n",
       "        vertical-align: middle;\n",
       "    }\n",
       "\n",
       "    .dataframe tbody tr th {\n",
       "        vertical-align: top;\n",
       "    }\n",
       "\n",
       "    .dataframe thead th {\n",
       "        text-align: right;\n",
       "    }\n",
       "</style>\n",
       "<table border=\"1\" class=\"dataframe\">\n",
       "  <thead>\n",
       "    <tr style=\"text-align: right;\">\n",
       "      <th></th>\n",
       "      <th>Name</th>\n",
       "      <th>Age</th>\n",
       "      <th>City</th>\n",
       "    </tr>\n",
       "  </thead>\n",
       "  <tbody>\n",
       "    <tr>\n",
       "      <th>0</th>\n",
       "      <td>Emily</td>\n",
       "      <td>28</td>\n",
       "      <td>Los Angeles</td>\n",
       "    </tr>\n",
       "    <tr>\n",
       "      <th>1</th>\n",
       "      <td>Ryan</td>\n",
       "      <td>22</td>\n",
       "      <td>Chicago</td>\n",
       "    </tr>\n",
       "  </tbody>\n",
       "</table>\n",
       "</div>"
      ]
     },
     "execution_count": 25,
     "metadata": {},
     "output_type": "execute_result"
    }
   ],
   "execution_count": 25
  },
  {
   "cell_type": "code",
   "source": "pd.concat([pd_data1, pd_data2])",
   "metadata": {
    "collapsed": false,
    "ExecuteTime": {
     "end_time": "2024-11-05T17:22:16.625720Z",
     "start_time": "2024-11-05T17:22:16.619725Z"
    }
   },
   "outputs": [
    {
     "data": {
      "text/plain": [
       "    Name   Age         City\n",
       "0   John  25.0          NaN\n",
       "1  Emily  28.0          NaN\n",
       "2   Ryan  22.0          NaN\n",
       "0  Emily   NaN  Los Angeles\n",
       "1   Ryan   NaN      Chicago\n",
       "2   Mike   NaN      Houston"
      ],
      "text/html": [
       "<div>\n",
       "<style scoped>\n",
       "    .dataframe tbody tr th:only-of-type {\n",
       "        vertical-align: middle;\n",
       "    }\n",
       "\n",
       "    .dataframe tbody tr th {\n",
       "        vertical-align: top;\n",
       "    }\n",
       "\n",
       "    .dataframe thead th {\n",
       "        text-align: right;\n",
       "    }\n",
       "</style>\n",
       "<table border=\"1\" class=\"dataframe\">\n",
       "  <thead>\n",
       "    <tr style=\"text-align: right;\">\n",
       "      <th></th>\n",
       "      <th>Name</th>\n",
       "      <th>Age</th>\n",
       "      <th>City</th>\n",
       "    </tr>\n",
       "  </thead>\n",
       "  <tbody>\n",
       "    <tr>\n",
       "      <th>0</th>\n",
       "      <td>John</td>\n",
       "      <td>25.0</td>\n",
       "      <td>NaN</td>\n",
       "    </tr>\n",
       "    <tr>\n",
       "      <th>1</th>\n",
       "      <td>Emily</td>\n",
       "      <td>28.0</td>\n",
       "      <td>NaN</td>\n",
       "    </tr>\n",
       "    <tr>\n",
       "      <th>2</th>\n",
       "      <td>Ryan</td>\n",
       "      <td>22.0</td>\n",
       "      <td>NaN</td>\n",
       "    </tr>\n",
       "    <tr>\n",
       "      <th>0</th>\n",
       "      <td>Emily</td>\n",
       "      <td>NaN</td>\n",
       "      <td>Los Angeles</td>\n",
       "    </tr>\n",
       "    <tr>\n",
       "      <th>1</th>\n",
       "      <td>Ryan</td>\n",
       "      <td>NaN</td>\n",
       "      <td>Chicago</td>\n",
       "    </tr>\n",
       "    <tr>\n",
       "      <th>2</th>\n",
       "      <td>Mike</td>\n",
       "      <td>NaN</td>\n",
       "      <td>Houston</td>\n",
       "    </tr>\n",
       "  </tbody>\n",
       "</table>\n",
       "</div>"
      ]
     },
     "execution_count": 31,
     "metadata": {},
     "output_type": "execute_result"
    }
   ],
   "execution_count": 31
  },
  {
   "cell_type": "markdown",
   "source": [
    "### Task 5.2\n",
    "\n",
    "You have two `Series` objects `s1` and `s2`. Make default mathematical operations on these two `Series` objects. Such as `+`, `-`, `*`, `/`, `**`, `//`, `%`. Also, filter `s1` and print only even numbers, and `s2` only with odd numbers.\n"
   ],
   "metadata": {
    "collapsed": false
   }
  },
  {
   "cell_type": "code",
   "source": [
    "s1 = pd.Series([1, 2, 3, 4, 5])\n",
    "s2 = pd.Series([6, 7, 8, 9, 10])"
   ],
   "metadata": {
    "collapsed": false,
    "ExecuteTime": {
     "end_time": "2024-11-05T17:22:55.225541Z",
     "start_time": "2024-11-05T17:22:55.223130Z"
    }
   },
   "outputs": [],
   "execution_count": 33
  },
  {
   "cell_type": "code",
   "source": "s1 + s2",
   "metadata": {
    "collapsed": false,
    "ExecuteTime": {
     "end_time": "2024-11-05T17:22:56.267829Z",
     "start_time": "2024-11-05T17:22:56.263918Z"
    }
   },
   "outputs": [
    {
     "data": {
      "text/plain": [
       "0     7\n",
       "1     9\n",
       "2    11\n",
       "3    13\n",
       "4    15\n",
       "dtype: int64"
      ]
     },
     "execution_count": 34,
     "metadata": {},
     "output_type": "execute_result"
    }
   ],
   "execution_count": 34
  },
  {
   "cell_type": "code",
   "source": "s1 - s2",
   "metadata": {
    "collapsed": false,
    "ExecuteTime": {
     "end_time": "2024-11-05T17:23:06.043548Z",
     "start_time": "2024-11-05T17:23:06.039853Z"
    }
   },
   "outputs": [
    {
     "data": {
      "text/plain": [
       "0   -5\n",
       "1   -5\n",
       "2   -5\n",
       "3   -5\n",
       "4   -5\n",
       "dtype: int64"
      ]
     },
     "execution_count": 35,
     "metadata": {},
     "output_type": "execute_result"
    }
   ],
   "execution_count": 35
  },
  {
   "cell_type": "code",
   "source": "s1 * s2",
   "metadata": {
    "collapsed": false,
    "ExecuteTime": {
     "end_time": "2024-11-05T17:23:15.675978Z",
     "start_time": "2024-11-05T17:23:15.672439Z"
    }
   },
   "outputs": [
    {
     "data": {
      "text/plain": [
       "0     6\n",
       "1    14\n",
       "2    24\n",
       "3    36\n",
       "4    50\n",
       "dtype: int64"
      ]
     },
     "execution_count": 36,
     "metadata": {},
     "output_type": "execute_result"
    }
   ],
   "execution_count": 36
  },
  {
   "cell_type": "code",
   "source": "s1 / s2",
   "metadata": {
    "collapsed": false,
    "ExecuteTime": {
     "end_time": "2024-11-05T17:23:25.795645Z",
     "start_time": "2024-11-05T17:23:25.791741Z"
    }
   },
   "outputs": [
    {
     "data": {
      "text/plain": [
       "0    0.166667\n",
       "1    0.285714\n",
       "2    0.375000\n",
       "3    0.444444\n",
       "4    0.500000\n",
       "dtype: float64"
      ]
     },
     "execution_count": 37,
     "metadata": {},
     "output_type": "execute_result"
    }
   ],
   "execution_count": 37
  },
  {
   "cell_type": "code",
   "source": "s1 ** s2",
   "metadata": {
    "collapsed": false,
    "ExecuteTime": {
     "end_time": "2024-11-05T17:23:39.662523Z",
     "start_time": "2024-11-05T17:23:39.659043Z"
    }
   },
   "outputs": [
    {
     "data": {
      "text/plain": [
       "0          1\n",
       "1        128\n",
       "2       6561\n",
       "3     262144\n",
       "4    9765625\n",
       "dtype: int64"
      ]
     },
     "execution_count": 38,
     "metadata": {},
     "output_type": "execute_result"
    }
   ],
   "execution_count": 38
  },
  {
   "cell_type": "code",
   "source": "s1 // s2",
   "metadata": {
    "collapsed": false,
    "ExecuteTime": {
     "end_time": "2024-11-05T17:23:45.423592Z",
     "start_time": "2024-11-05T17:23:45.419430Z"
    }
   },
   "outputs": [
    {
     "data": {
      "text/plain": [
       "0    0\n",
       "1    0\n",
       "2    0\n",
       "3    0\n",
       "4    0\n",
       "dtype: int64"
      ]
     },
     "execution_count": 39,
     "metadata": {},
     "output_type": "execute_result"
    }
   ],
   "execution_count": 39
  },
  {
   "cell_type": "code",
   "source": "s1 % s2",
   "metadata": {
    "collapsed": false,
    "ExecuteTime": {
     "end_time": "2024-11-05T17:23:52.972725Z",
     "start_time": "2024-11-05T17:23:52.969085Z"
    }
   },
   "outputs": [
    {
     "data": {
      "text/plain": [
       "0    1\n",
       "1    2\n",
       "2    3\n",
       "3    4\n",
       "4    5\n",
       "dtype: int64"
      ]
     },
     "execution_count": 40,
     "metadata": {},
     "output_type": "execute_result"
    }
   ],
   "execution_count": 40
  },
  {
   "cell_type": "code",
   "source": "s1[s1 % 2 == 0]",
   "metadata": {
    "collapsed": false,
    "ExecuteTime": {
     "end_time": "2024-11-05T17:24:49.184201Z",
     "start_time": "2024-11-05T17:24:49.180591Z"
    }
   },
   "outputs": [
    {
     "data": {
      "text/plain": [
       "1    2\n",
       "3    4\n",
       "dtype: int64"
      ]
     },
     "execution_count": 41,
     "metadata": {},
     "output_type": "execute_result"
    }
   ],
   "execution_count": 41
  },
  {
   "cell_type": "code",
   "source": "s2[s2 % 2 != 0]",
   "metadata": {
    "collapsed": false,
    "ExecuteTime": {
     "end_time": "2024-11-05T17:25:07.953669Z",
     "start_time": "2024-11-05T17:25:07.949716Z"
    }
   },
   "outputs": [
    {
     "data": {
      "text/plain": [
       "1    7\n",
       "3    9\n",
       "dtype: int64"
      ]
     },
     "execution_count": 42,
     "metadata": {},
     "output_type": "execute_result"
    }
   ],
   "execution_count": 42
  },
  {
   "cell_type": "markdown",
   "source": [
    "### Task 5.3\n",
    "\n",
    "You have a `Serias` object `s`. Make the following operations on this `Series` object:\n",
    "\n",
    "* make all words in uppercase without loops;\n",
    "* get length of each word without loops.\n"
   ],
   "metadata": {
    "collapsed": false
   }
  },
  {
   "cell_type": "code",
   "source": [
    "s = pd.Series([\"numpy\", \"pandas\", \"matplotlib\"])"
   ],
   "metadata": {
    "collapsed": false,
    "ExecuteTime": {
     "end_time": "2024-11-05T17:25:49.151610Z",
     "start_time": "2024-11-05T17:25:49.148300Z"
    }
   },
   "outputs": [],
   "execution_count": 44
  },
  {
   "cell_type": "code",
   "source": "s.str.upper()",
   "metadata": {
    "collapsed": false,
    "ExecuteTime": {
     "end_time": "2024-11-05T17:28:50.488868Z",
     "start_time": "2024-11-05T17:28:50.485068Z"
    }
   },
   "outputs": [
    {
     "data": {
      "text/plain": [
       "0         NUMPY\n",
       "1        PANDAS\n",
       "2    MATPLOTLIB\n",
       "dtype: object"
      ]
     },
     "execution_count": 47,
     "metadata": {},
     "output_type": "execute_result"
    }
   ],
   "execution_count": 47
  },
  {
   "cell_type": "code",
   "source": "s.str.len()",
   "metadata": {
    "collapsed": false,
    "ExecuteTime": {
     "end_time": "2024-11-05T17:29:10.728587Z",
     "start_time": "2024-11-05T17:29:10.725144Z"
    }
   },
   "outputs": [
    {
     "data": {
      "text/plain": [
       "0     5\n",
       "1     6\n",
       "2    10\n",
       "dtype: int64"
      ]
     },
     "execution_count": 49,
     "metadata": {},
     "output_type": "execute_result"
    }
   ],
   "execution_count": 49
  },
  {
   "cell_type": "markdown",
   "source": [
    "## Task 6 Optional\n",
    "\n",
    "You have a large dataset consisting of a series of numbers. Your task is to calculate the moving average of the series using a window of `5` elements. The moving average is the average of a set of consecutive values in the series, where the window `slides` through the series to compute the average at each position. The goal is to calculate the moving average efficiently and accurately. Also, compare time performance of Python and Pandas solutions.\n",
    "\n",
    "> Please, note: If you get `nan` while calculating the moving average, you should remove it from the result. Pandas solution should take 1-2 lines of code.\n"
   ],
   "metadata": {
    "collapsed": false
   }
  },
  {
   "cell_type": "markdown",
   "source": [
    "### Python Solution\n",
    "\n",
    "In the Python solution, a large dataset is generated using random numbers. The moving average is computed by iterating over the dataset using a loop. At each position, a window of 5 elements is created, and the average is calculated by summing the values in the window and dividing by 5."
   ],
   "metadata": {
    "collapsed": false
   }
  },
  {
   "cell_type": "code",
   "execution_count": null,
   "outputs": [],
   "source": [
    "import random\n",
    "\n",
    "def unknown_signature():\n",
    "    # Generate a large dataset\n",
    "    data = [random.randint(1, 100) for _ in range(10000000)]\n",
    "\n",
    "    # Calculate the moving average with a window of 5\n",
    "    moving_averages = []\n",
    "    for i in range(4, len(data)):\n",
    "        window = data[i - 4 : i + 1]\n",
    "        average = sum(window) / 5\n",
    "        moving_averages.append(average)\n",
    "    return moving_averages[:10]\n",
    "\n",
    "%time unknown_signature()"
   ],
   "metadata": {
    "collapsed": false
   }
  },
  {
   "cell_type": "markdown",
   "source": [
    "### Solution using Pandas and Numpy\n"
   ],
   "metadata": {
    "collapsed": false
   }
  },
  {
   "cell_type": "code",
   "source": [
    "s = pd.Series(np.random.randint(1, 101, size=10000000))\n",
    "s.rolling(window=5).mean().dropna().tolist()"
   ],
   "metadata": {
    "collapsed": false,
    "ExecuteTime": {
     "end_time": "2024-11-05T17:39:30.786624Z",
     "start_time": "2024-11-05T17:39:30.284090Z"
    }
   },
   "outputs": [
    {
     "data": {
      "text/plain": [
       "[30.4,\n",
       " 32.8,\n",
       " 29.0,\n",
       " 38.8,\n",
       " 48.8,\n",
       " 67.6,\n",
       " 75.2,\n",
       " 73.6,\n",
       " 69.4,\n",
       " 65.0,\n",
       " 59.4,\n",
       " 57.0,\n",
       " 64.2,\n",
       " 58.4,\n",
       " 58.0,\n",
       " 54.8,\n",
       " 44.6,\n",
       " 44.4,\n",
       " 44.4,\n",
       " 40.6,\n",
       " 38.2,\n",
       " 44.4,\n",
       " 30.8,\n",
       " 35.2,\n",
       " 42.4,\n",
       " 45.4,\n",
       " 40.8,\n",
       " 35.4,\n",
       " 31.4,\n",
       " 27.2,\n",
       " 29.0,\n",
       " 39.4,\n",
       " 51.2,\n",
       " 51.8,\n",
       " 57.6,\n",
       " 64.4,\n",
       " 53.8,\n",
       " 59.4,\n",
       " 70.2,\n",
       " 63.0,\n",
       " 46.4,\n",
       " 43.8,\n",
       " 39.6,\n",
       " 40.6,\n",
       " 41.8,\n",
       " 56.4,\n",
       " 67.8,\n",
       " 63.6,\n",
       " 49.0,\n",
       " 49.4,\n",
       " 40.2,\n",
       " 32.8,\n",
       " 36.4,\n",
       " 49.8,\n",
       " 61.8,\n",
       " 69.0,\n",
       " 64.8,\n",
       " 68.0,\n",
       " 67.2,\n",
       " 57.8,\n",
       " 48.0,\n",
       " 50.2,\n",
       " 53.0,\n",
       " 53.6,\n",
       " 61.0,\n",
       " 71.4,\n",
       " 80.0,\n",
       " 63.2,\n",
       " 65.0,\n",
       " 51.6,\n",
       " 37.4,\n",
       " 27.0,\n",
       " 31.2,\n",
       " 32.2,\n",
       " 31.8,\n",
       " 50.0,\n",
       " 48.6,\n",
       " 56.6,\n",
       " 48.2,\n",
       " 52.6,\n",
       " 42.4,\n",
       " 51.0,\n",
       " 54.0,\n",
       " 58.4,\n",
       " 63.0,\n",
       " 63.4,\n",
       " 69.6,\n",
       " 71.4,\n",
       " 62.6,\n",
       " 54.4,\n",
       " 58.8,\n",
       " 51.4,\n",
       " 51.2,\n",
       " 61.4,\n",
       " 59.0,\n",
       " 45.4,\n",
       " 55.6,\n",
       " 41.8,\n",
       " 46.8,\n",
       " 50.0,\n",
       " 64.4,\n",
       " 57.4,\n",
       " 71.8,\n",
       " 69.6,\n",
       " 82.2,\n",
       " 71.2,\n",
       " 76.4,\n",
       " 76.0,\n",
       " 63.8,\n",
       " 48.0,\n",
       " 59.0,\n",
       " 46.4,\n",
       " 30.2,\n",
       " 28.6,\n",
       " 26.8,\n",
       " 15.4,\n",
       " 31.4,\n",
       " 29.2,\n",
       " 33.6,\n",
       " 43.6,\n",
       " 44.0,\n",
       " 38.2,\n",
       " 55.2,\n",
       " 47.4,\n",
       " 55.0,\n",
       " 69.0,\n",
       " 69.6,\n",
       " 69.0,\n",
       " 71.6,\n",
       " 65.8,\n",
       " 47.6,\n",
       " 47.4,\n",
       " 32.0,\n",
       " 34.2,\n",
       " 39.2,\n",
       " 39.4,\n",
       " 26.4,\n",
       " 30.4,\n",
       " 35.4,\n",
       " 34.8,\n",
       " 47.8,\n",
       " 54.2,\n",
       " 53.2,\n",
       " 59.6,\n",
       " 59.0,\n",
       " 46.2,\n",
       " 42.2,\n",
       " 41.0,\n",
       " 36.0,\n",
       " 23.4,\n",
       " 33.8,\n",
       " 35.4,\n",
       " 45.6,\n",
       " 46.4,\n",
       " 54.4,\n",
       " 60.2,\n",
       " 69.4,\n",
       " 63.2,\n",
       " 60.8,\n",
       " 67.0,\n",
       " 53.2,\n",
       " 47.6,\n",
       " 49.6,\n",
       " 42.2,\n",
       " 29.8,\n",
       " 44.2,\n",
       " 40.2,\n",
       " 47.4,\n",
       " 60.0,\n",
       " 72.4,\n",
       " 71.6,\n",
       " 70.8,\n",
       " 69.0,\n",
       " 73.6,\n",
       " 64.0,\n",
       " 57.8,\n",
       " 58.8,\n",
       " 63.2,\n",
       " 61.2,\n",
       " 70.4,\n",
       " 74.2,\n",
       " 82.0,\n",
       " 78.8,\n",
       " 73.2,\n",
       " 59.6,\n",
       " 62.4,\n",
       " 66.6,\n",
       " 59.4,\n",
       " 57.8,\n",
       " 59.8,\n",
       " 61.6,\n",
       " 57.8,\n",
       " 51.6,\n",
       " 53.2,\n",
       " 56.4,\n",
       " 42.4,\n",
       " 47.6,\n",
       " 64.6,\n",
       " 57.8,\n",
       " 49.8,\n",
       " 46.8,\n",
       " 38.6,\n",
       " 31.8,\n",
       " 44.6,\n",
       " 57.2,\n",
       " 65.8,\n",
       " 60.0,\n",
       " 53.2,\n",
       " 46.0,\n",
       " 42.2,\n",
       " 49.2,\n",
       " 59.0,\n",
       " 71.6,\n",
       " 75.0,\n",
       " 74.8,\n",
       " 70.6,\n",
       " 67.2,\n",
       " 64.2,\n",
       " 63.4,\n",
       " 67.0,\n",
       " 64.2,\n",
       " 70.4,\n",
       " 59.2,\n",
       " 58.8,\n",
       " 63.0,\n",
       " 70.4,\n",
       " 73.2,\n",
       " 82.4,\n",
       " 85.0,\n",
       " 79.8,\n",
       " 70.4,\n",
       " 59.4,\n",
       " 65.0,\n",
       " 56.0,\n",
       " 46.6,\n",
       " 44.6,\n",
       " 50.6,\n",
       " 45.2,\n",
       " 50.0,\n",
       " 61.8,\n",
       " 58.6,\n",
       " 56.2,\n",
       " 54.0,\n",
       " 60.0,\n",
       " 60.0,\n",
       " 64.2,\n",
       " 52.6,\n",
       " 58.8,\n",
       " 53.2,\n",
       " 50.8,\n",
       " 49.2,\n",
       " 57.6,\n",
       " 48.0,\n",
       " 53.0,\n",
       " 42.4,\n",
       " 56.2,\n",
       " 57.8,\n",
       " 64.4,\n",
       " 50.4,\n",
       " 64.2,\n",
       " 64.6,\n",
       " 56.2,\n",
       " 47.6,\n",
       " 57.0,\n",
       " 56.2,\n",
       " 53.4,\n",
       " 61.0,\n",
       " 66.4,\n",
       " 58.6,\n",
       " 58.6,\n",
       " 43.6,\n",
       " 34.6,\n",
       " 24.2,\n",
       " 29.6,\n",
       " 17.4,\n",
       " 35.0,\n",
       " 50.2,\n",
       " 53.2,\n",
       " 46.4,\n",
       " 51.8,\n",
       " 38.0,\n",
       " 27.0,\n",
       " 32.6,\n",
       " 41.2,\n",
       " 40.6,\n",
       " 50.6,\n",
       " 54.8,\n",
       " 58.8,\n",
       " 59.0,\n",
       " 60.8,\n",
       " 63.4,\n",
       " 64.0,\n",
       " 59.8,\n",
       " 62.6,\n",
       " 60.6,\n",
       " 58.2,\n",
       " 65.2,\n",
       " 61.4,\n",
       " 62.6,\n",
       " 55.8,\n",
       " 57.0,\n",
       " 43.0,\n",
       " 49.4,\n",
       " 35.0,\n",
       " 41.6,\n",
       " 35.0,\n",
       " 43.2,\n",
       " 36.0,\n",
       " 48.2,\n",
       " 51.0,\n",
       " 55.0,\n",
       " 44.2,\n",
       " 59.0,\n",
       " 56.8,\n",
       " 47.6,\n",
       " 39.8,\n",
       " 45.2,\n",
       " 42.4,\n",
       " 38.0,\n",
       " 57.2,\n",
       " 60.2,\n",
       " 69.4,\n",
       " 70.8,\n",
       " 67.2,\n",
       " 53.8,\n",
       " 44.8,\n",
       " 34.2,\n",
       " 23.6,\n",
       " 33.2,\n",
       " 45.8,\n",
       " 56.6,\n",
       " 52.2,\n",
       " 47.8,\n",
       " 37.2,\n",
       " 31.6,\n",
       " 29.0,\n",
       " 41.0,\n",
       " 55.4,\n",
       " 56.2,\n",
       " 43.2,\n",
       " 46.6,\n",
       " 35.2,\n",
       " 25.4,\n",
       " 40.0,\n",
       " 53.4,\n",
       " 46.8,\n",
       " 46.2,\n",
       " 51.2,\n",
       " 36.2,\n",
       " 30.4,\n",
       " 35.2,\n",
       " 43.6,\n",
       " 39.6,\n",
       " 48.4,\n",
       " 59.6,\n",
       " 58.8,\n",
       " 54.4,\n",
       " 50.8,\n",
       " 40.6,\n",
       " 25.6,\n",
       " 33.6,\n",
       " 42.4,\n",
       " 56.0,\n",
       " 58.4,\n",
       " 74.2,\n",
       " 65.6,\n",
       " 68.0,\n",
       " 51.0,\n",
       " 56.6,\n",
       " 42.2,\n",
       " 50.6,\n",
       " 50.6,\n",
       " 68.0,\n",
       " 59.6,\n",
       " 65.0,\n",
       " 53.8,\n",
       " 52.0,\n",
       " 50.0,\n",
       " 68.2,\n",
       " 76.0,\n",
       " 84.4,\n",
       " 89.8,\n",
       " 80.6,\n",
       " 81.2,\n",
       " 78.4,\n",
       " 67.0,\n",
       " 53.6,\n",
       " 61.4,\n",
       " 53.6,\n",
       " 57.6,\n",
       " 67.6,\n",
       " 68.2,\n",
       " 68.8,\n",
       " 76.4,\n",
       " 63.8,\n",
       " 62.0,\n",
       " 64.0,\n",
       " 59.6,\n",
       " 51.2,\n",
       " 63.8,\n",
       " 61.0,\n",
       " 71.6,\n",
       " 61.8,\n",
       " 54.6,\n",
       " 48.8,\n",
       " 55.8,\n",
       " 46.0,\n",
       " 48.0,\n",
       " 59.8,\n",
       " 47.6,\n",
       " 41.0,\n",
       " 49.8,\n",
       " 62.4,\n",
       " 52.4,\n",
       " 61.8,\n",
       " 54.4,\n",
       " 53.2,\n",
       " 54.2,\n",
       " 57.8,\n",
       " 64.8,\n",
       " 76.2,\n",
       " 70.2,\n",
       " 61.6,\n",
       " 69.2,\n",
       " 66.0,\n",
       " 67.2,\n",
       " 68.2,\n",
       " 64.0,\n",
       " 60.4,\n",
       " 56.6,\n",
       " 52.0,\n",
       " 47.6,\n",
       " 55.0,\n",
       " 47.2,\n",
       " 49.0,\n",
       " 44.2,\n",
       " 42.4,\n",
       " 49.0,\n",
       " 54.2,\n",
       " 52.4,\n",
       " 65.8,\n",
       " 66.0,\n",
       " 59.8,\n",
       " 49.6,\n",
       " 43.4,\n",
       " 42.0,\n",
       " 41.4,\n",
       " 35.2,\n",
       " 43.8,\n",
       " 44.8,\n",
       " 43.6,\n",
       " 57.8,\n",
       " 66.0,\n",
       " 76.6,\n",
       " 74.6,\n",
       " 70.0,\n",
       " 53.0,\n",
       " 48.8,\n",
       " 37.8,\n",
       " 48.0,\n",
       " 53.2,\n",
       " 56.6,\n",
       " 62.4,\n",
       " 66.6,\n",
       " 52.6,\n",
       " 51.0,\n",
       " 61.8,\n",
       " 52.6,\n",
       " 54.4,\n",
       " 73.4,\n",
       " 64.0,\n",
       " 49.8,\n",
       " 50.0,\n",
       " 40.4,\n",
       " 28.8,\n",
       " 37.4,\n",
       " 48.6,\n",
       " 56.2,\n",
       " 62.4,\n",
       " 58.4,\n",
       " 48.0,\n",
       " 50.0,\n",
       " 50.2,\n",
       " 41.4,\n",
       " 38.4,\n",
       " 49.0,\n",
       " 34.2,\n",
       " 29.4,\n",
       " 29.8,\n",
       " 44.2,\n",
       " 47.2,\n",
       " 58.2,\n",
       " 52.6,\n",
       " 56.2,\n",
       " 50.6,\n",
       " 41.4,\n",
       " 34.8,\n",
       " 31.0,\n",
       " 37.2,\n",
       " 29.6,\n",
       " 22.6,\n",
       " 31.2,\n",
       " 39.0,\n",
       " 42.8,\n",
       " 45.0,\n",
       " 61.8,\n",
       " 60.2,\n",
       " 68.8,\n",
       " 56.0,\n",
       " 58.6,\n",
       " 42.8,\n",
       " 41.6,\n",
       " 38.0,\n",
       " 43.6,\n",
       " 44.4,\n",
       " 43.6,\n",
       " 49.8,\n",
       " 42.4,\n",
       " 51.6,\n",
       " 58.8,\n",
       " 61.4,\n",
       " 55.6,\n",
       " 51.2,\n",
       " 45.0,\n",
       " 34.2,\n",
       " 41.8,\n",
       " 45.6,\n",
       " 50.4,\n",
       " 52.8,\n",
       " 68.4,\n",
       " 64.6,\n",
       " 56.6,\n",
       " 55.4,\n",
       " 46.2,\n",
       " 38.4,\n",
       " 42.2,\n",
       " 43.4,\n",
       " 41.8,\n",
       " 38.4,\n",
       " 29.6,\n",
       " 29.2,\n",
       " 23.0,\n",
       " 37.8,\n",
       " 35.6,\n",
       " 48.4,\n",
       " 46.6,\n",
       " 60.2,\n",
       " 42.2,\n",
       " 49.8,\n",
       " 37.6,\n",
       " 45.6,\n",
       " 34.0,\n",
       " 43.0,\n",
       " 43.0,\n",
       " 46.4,\n",
       " 33.2,\n",
       " 31.6,\n",
       " 27.6,\n",
       " 27.4,\n",
       " 31.6,\n",
       " 43.8,\n",
       " 48.4,\n",
       " 46.8,\n",
       " 45.2,\n",
       " 34.2,\n",
       " 24.2,\n",
       " 32.0,\n",
       " 32.8,\n",
       " 37.2,\n",
       " 53.8,\n",
       " 55.2,\n",
       " 42.2,\n",
       " 39.4,\n",
       " 29.6,\n",
       " 13.6,\n",
       " 6.6,\n",
       " 6.8,\n",
       " 18.4,\n",
       " 22.4,\n",
       " 37.2,\n",
       " 43.8,\n",
       " 59.4,\n",
       " 48.0,\n",
       " 46.6,\n",
       " 49.2,\n",
       " 44.6,\n",
       " 45.4,\n",
       " 45.6,\n",
       " 45.8,\n",
       " 31.2,\n",
       " 39.4,\n",
       " 29.4,\n",
       " 45.2,\n",
       " 58.0,\n",
       " 55.0,\n",
       " 49.4,\n",
       " 53.8,\n",
       " 50.6,\n",
       " 50.0,\n",
       " 68.6,\n",
       " 63.6,\n",
       " 52.4,\n",
       " 48.0,\n",
       " 35.0,\n",
       " 32.6,\n",
       " 42.2,\n",
       " 49.0,\n",
       " 48.0,\n",
       " 56.4,\n",
       " 56.4,\n",
       " 48.2,\n",
       " 43.8,\n",
       " 39.0,\n",
       " 44.6,\n",
       " 36.0,\n",
       " 53.8,\n",
       " 54.4,\n",
       " 58.0,\n",
       " 53.6,\n",
       " 46.2,\n",
       " 26.8,\n",
       " 41.4,\n",
       " 38.4,\n",
       " 28.4,\n",
       " 40.6,\n",
       " 55.2,\n",
       " 42.8,\n",
       " 49.2,\n",
       " 57.4,\n",
       " 45.6,\n",
       " 37.4,\n",
       " 38.0,\n",
       " 37.0,\n",
       " 43.4,\n",
       " 48.0,\n",
       " 48.4,\n",
       " 57.8,\n",
       " 47.4,\n",
       " 32.0,\n",
       " 37.0,\n",
       " 30.6,\n",
       " 26.0,\n",
       " 43.8,\n",
       " 46.8,\n",
       " 36.4,\n",
       " 47.0,\n",
       " 39.0,\n",
       " 21.6,\n",
       " 18.0,\n",
       " 28.6,\n",
       " 19.8,\n",
       " 21.0,\n",
       " 22.2,\n",
       " 27.8,\n",
       " 30.4,\n",
       " 28.4,\n",
       " 25.8,\n",
       " 41.4,\n",
       " 47.0,\n",
       " 44.2,\n",
       " 49.6,\n",
       " 59.4,\n",
       " 61.2,\n",
       " 51.4,\n",
       " 55.2,\n",
       " 53.0,\n",
       " 45.4,\n",
       " 30.4,\n",
       " 33.0,\n",
       " 23.4,\n",
       " 27.4,\n",
       " 39.4,\n",
       " 52.4,\n",
       " 52.0,\n",
       " 61.8,\n",
       " 64.2,\n",
       " 49.2,\n",
       " 33.6,\n",
       " 49.0,\n",
       " 43.2,\n",
       " 39.2,\n",
       " 42.6,\n",
       " 59.2,\n",
       " 45.2,\n",
       " 45.8,\n",
       " 40.8,\n",
       " 46.8,\n",
       " 36.8,\n",
       " 44.0,\n",
       " 47.8,\n",
       " 51.4,\n",
       " 56.8,\n",
       " 59.8,\n",
       " 52.4,\n",
       " 46.6,\n",
       " 57.8,\n",
       " 42.6,\n",
       " 32.8,\n",
       " 32.8,\n",
       " 40.2,\n",
       " 32.6,\n",
       " 36.2,\n",
       " 50.2,\n",
       " 49.8,\n",
       " 52.2,\n",
       " 48.8,\n",
       " 44.0,\n",
       " 28.4,\n",
       " 30.4,\n",
       " 28.0,\n",
       " 36.6,\n",
       " 56.2,\n",
       " 67.8,\n",
       " 79.6,\n",
       " 68.0,\n",
       " 71.4,\n",
       " 68.4,\n",
       " 70.2,\n",
       " 58.8,\n",
       " 71.6,\n",
       " 65.4,\n",
       " 48.6,\n",
       " 40.4,\n",
       " 44.4,\n",
       " 31.0,\n",
       " 37.0,\n",
       " 51.6,\n",
       " 62.6,\n",
       " 68.0,\n",
       " 80.6,\n",
       " 80.6,\n",
       " 71.6,\n",
       " 58.2,\n",
       " 46.4,\n",
       " 37.4,\n",
       " 26.8,\n",
       " 30.4,\n",
       " 38.4,\n",
       " 34.4,\n",
       " 37.0,\n",
       " 41.2,\n",
       " 46.0,\n",
       " 48.0,\n",
       " 64.0,\n",
       " 61.8,\n",
       " 61.2,\n",
       " 59.8,\n",
       " 55.0,\n",
       " 57.4,\n",
       " 57.8,\n",
       " 67.0,\n",
       " 63.8,\n",
       " 56.4,\n",
       " 56.6,\n",
       " 64.4,\n",
       " 48.6,\n",
       " 39.8,\n",
       " 40.0,\n",
       " 20.4,\n",
       " 16.8,\n",
       " 18.6,\n",
       " 33.2,\n",
       " 44.6,\n",
       " 61.0,\n",
       " 55.8,\n",
       " 63.4,\n",
       " 57.8,\n",
       " 50.8,\n",
       " 42.0,\n",
       " 38.2,\n",
       " 35.2,\n",
       " 38.8,\n",
       " 37.0,\n",
       " 29.8,\n",
       " 36.4,\n",
       " 38.8,\n",
       " 42.0,\n",
       " 38.6,\n",
       " 56.8,\n",
       " 54.2,\n",
       " 60.2,\n",
       " 53.4,\n",
       " 59.6,\n",
       " 60.2,\n",
       " 69.2,\n",
       " 58.2,\n",
       " 61.2,\n",
       " 67.8,\n",
       " 61.0,\n",
       " 59.8,\n",
       " 59.0,\n",
       " 55.2,\n",
       " 60.0,\n",
       " 49.6,\n",
       " 40.0,\n",
       " 45.8,\n",
       " 52.6,\n",
       " 44.2,\n",
       " 48.6,\n",
       " 60.8,\n",
       " 59.4,\n",
       " 56.4,\n",
       " 62.2,\n",
       " 64.4,\n",
       " 60.2,\n",
       " 60.2,\n",
       " 62.6,\n",
       " 53.4,\n",
       " 59.4,\n",
       " 60.6,\n",
       " 62.8,\n",
       " 65.2,\n",
       " 60.6,\n",
       " 53.0,\n",
       " 51.6,\n",
       " 51.6,\n",
       " 36.6,\n",
       " 48.6,\n",
       " 58.8,\n",
       " 51.6,\n",
       " 43.4,\n",
       " 46.8,\n",
       " 52.8,\n",
       " 38.0,\n",
       " 51.2,\n",
       " 64.6,\n",
       " 78.0,\n",
       " 68.2,\n",
       " 66.6,\n",
       " 62.4,\n",
       " 52.2,\n",
       " 51.2,\n",
       " 47.8,\n",
       " 51.2,\n",
       " 39.4,\n",
       " 44.4,\n",
       " 39.6,\n",
       " 40.6,\n",
       " 48.0,\n",
       " 57.0,\n",
       " 55.4,\n",
       " 56.2,\n",
       " 58.2,\n",
       " 61.2,\n",
       " 50.8,\n",
       " 58.0,\n",
       " 58.0,\n",
       " 65.0,\n",
       " 52.0,\n",
       " 71.0,\n",
       " 69.4,\n",
       " 56.0,\n",
       " 52.8,\n",
       " 53.2,\n",
       " 39.4,\n",
       " 39.4,\n",
       " 41.2,\n",
       " 35.2,\n",
       " 50.8,\n",
       " 50.4,\n",
       " 38.4,\n",
       " 51.2,\n",
       " 58.8,\n",
       " 59.6,\n",
       " 66.6,\n",
       " 68.8,\n",
       " 72.6,\n",
       " 75.2,\n",
       " 74.4,\n",
       " 72.8,\n",
       " 67.4,\n",
       " 66.6,\n",
       " 65.4,\n",
       " 51.4,\n",
       " 49.0,\n",
       " 52.0,\n",
       " 44.6,\n",
       " 41.4,\n",
       " 45.4,\n",
       " 52.8,\n",
       " 64.4,\n",
       " 72.8,\n",
       " 61.2,\n",
       " 63.6,\n",
       " 63.4,\n",
       " 61.4,\n",
       " 46.4,\n",
       " 60.4,\n",
       " 69.6,\n",
       " 73.0,\n",
       " 68.6,\n",
       " 75.6,\n",
       " 67.8,\n",
       " 49.8,\n",
       " 43.8,\n",
       " 51.2,\n",
       " 54.8,\n",
       " 53.4,\n",
       " 56.6,\n",
       " 53.6,\n",
       " 46.6,\n",
       " 43.6,\n",
       " 40.8,\n",
       " 45.6,\n",
       " 36.2,\n",
       " 38.6,\n",
       " 41.0,\n",
       " 55.8,\n",
       " 52.0,\n",
       " 65.6,\n",
       " 70.4,\n",
       " 70.0,\n",
       " 63.0,\n",
       " 64.4,\n",
       " 67.2,\n",
       " 66.8,\n",
       " 61.2,\n",
       " 51.2,\n",
       " 49.2,\n",
       " 38.8,\n",
       " 36.6,\n",
       " 41.0,\n",
       " 52.2,\n",
       " 50.2,\n",
       " 59.8,\n",
       " 60.4,\n",
       " 52.4,\n",
       " 52.6,\n",
       " 56.0,\n",
       " 40.2,\n",
       " 39.8,\n",
       " 45.0,\n",
       " 35.2,\n",
       " 32.8,\n",
       " 37.2,\n",
       " 35.6,\n",
       " 39.2,\n",
       " 37.2,\n",
       " 41.8,\n",
       " 51.4,\n",
       " 47.0,\n",
       " 36.2,\n",
       " 42.2,\n",
       " 48.2,\n",
       " 41.6,\n",
       " 36.6,\n",
       " 44.2,\n",
       " 56.4,\n",
       " 54.2,\n",
       " 48.8,\n",
       " 64.6,\n",
       " 54.8,\n",
       " 36.4,\n",
       " 26.4,\n",
       " 36.2,\n",
       " 32.2,\n",
       " 47.2,\n",
       " 47.8,\n",
       " 59.6,\n",
       " 56.0,\n",
       " 47.4,\n",
       " 48.4,\n",
       " 62.6,\n",
       " 62.8,\n",
       " 71.0,\n",
       " 72.6,\n",
       " 62.6,\n",
       " 51.0,\n",
       " 49.6,\n",
       " 43.4,\n",
       " 45.0,\n",
       " 52.6,\n",
       " 54.8,\n",
       " 55.2,\n",
       " 45.2,\n",
       " 43.6,\n",
       " 39.6,\n",
       " 45.8,\n",
       " 48.6,\n",
       " 67.0,\n",
       " 66.8,\n",
       " 60.8,\n",
       " 63.8,\n",
       " 54.4,\n",
       " 41.2,\n",
       " 33.2,\n",
       " 41.4,\n",
       " 43.2,\n",
       " 37.0,\n",
       " 35.0,\n",
       " 49.6,\n",
       " 49.2,\n",
       " 35.8,\n",
       " 40.4,\n",
       " 48.6,\n",
       " 34.6,\n",
       " 40.0,\n",
       " 40.4,\n",
       " 50.2,\n",
       " 57.6,\n",
       " ...]"
      ]
     },
     "execution_count": 58,
     "metadata": {},
     "output_type": "execute_result"
    }
   ],
   "execution_count": 58
  },
  {
   "metadata": {},
   "cell_type": "code",
   "outputs": [],
   "execution_count": null,
   "source": ""
  }
 ],
 "metadata": {
  "kernelspec": {
   "display_name": "Python 3",
   "language": "python",
   "name": "python3"
  },
  "language_info": {
   "codemirror_mode": {
    "name": "ipython",
    "version": 2
   },
   "file_extension": ".py",
   "mimetype": "text/x-python",
   "name": "python",
   "nbconvert_exporter": "python",
   "pygments_lexer": "ipython2",
   "version": "2.7.6"
  }
 },
 "nbformat": 4,
 "nbformat_minor": 0
}
